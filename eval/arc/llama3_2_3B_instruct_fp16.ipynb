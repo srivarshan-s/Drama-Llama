{
 "cells": [
  {
   "cell_type": "code",
   "execution_count": null,
   "metadata": {
    "colab": {
     "base_uri": "https://localhost:8080/"
    },
    "id": "LBOxV5Icugsg",
    "outputId": "f7fcb886-9d56-4c7f-afa3-4f8cacf76e66"
   },
   "outputs": [],
   "source": [
    "!git clone --depth 1 https://github.com/EleutherAI/lm-evaluation-harness"
   ]
  },
  {
   "cell_type": "code",
   "execution_count": null,
   "metadata": {
    "id": "g2m-z94Lu1GL"
   },
   "outputs": [],
   "source": [
    "!cd lm-evaluation-harness/"
   ]
  },
  {
   "cell_type": "code",
   "execution_count": null,
   "metadata": {
    "colab": {
     "base_uri": "https://localhost:8080/"
    },
    "id": "HsW1f64zu5tS",
    "outputId": "33b2089d-2b29-478a-e27b-a6a2343298c6"
   },
   "outputs": [],
   "source": [
    "!pip install -e lm-evaluation-harness/"
   ]
  },
  {
   "cell_type": "code",
   "execution_count": 1,
   "metadata": {
    "colab": {
     "base_uri": "https://localhost:8080/"
    },
    "id": "ONwRbv9su7Hf",
    "outputId": "fbde9617-000f-41b4-8db9-21faf1e90af5"
   },
   "outputs": [
    {
     "name": "stdout",
     "output_type": "stream",
     "text": [
      "2024-11-20:22:40:55,583 INFO     [__main__.py:279] Verbosity set to INFO\n",
      "2024-11-20:22:41:03,822 INFO     [__main__.py:376] Selected Tasks: ['arc_challenge']\n",
      "2024-11-20:22:41:03,823 INFO     [evaluator.py:164] Setting random seed to 0 | Setting numpy seed to 1234 | Setting torch manual seed to 1234 | Setting fewshot manual seed to 1234\n",
      "2024-11-20:22:41:03,823 INFO     [evaluator.py:201] Initializing hf model, with arguments: {'pretrained': 'unsloth/Llama-3.2-3B-Instruct'}\n",
      "2024-11-20:22:41:03,895 INFO     [huggingface.py:131] Using device 'cuda'\n",
      "2024-11-20:22:41:04,737 INFO     [huggingface.py:368] Model parallel was set to False, max memory was not set, and device map was set to {'': 'cuda'}\n",
      "2024-11-20:22:41:13,167 INFO     [task.py:415] Building contexts for arc_challenge on rank 0...\n",
      "100%|█████████████████████████████████████| 1172/1172 [00:01<00:00, 1135.22it/s]\n",
      "2024-11-20:22:41:14,283 INFO     [evaluator.py:496] Running loglikelihood requests\n",
      "Running loglikelihood requests: 100%|██████| 4687/4687 [00:19<00:00, 239.45it/s]\n",
      "2024-11-20:22:41:36,634 INFO     [evaluation_tracker.py:269] Output path not provided, skipping saving results aggregated\n",
      "hf (pretrained=unsloth/Llama-3.2-3B-Instruct), gen_kwargs: (None), limit: None, num_fewshot: None, batch_size: 64\n",
      "|    Tasks    |Version|Filter|n-shot| Metric |   |Value |   |Stderr|\n",
      "|-------------|------:|------|-----:|--------|---|-----:|---|-----:|\n",
      "|arc_challenge|      1|none  |     0|acc     |↑  |0.4343|±  |0.0145|\n",
      "|             |       |none  |     0|acc_norm|↑  |0.4582|±  |0.0146|\n",
      "\n"
     ]
    }
   ],
   "source": [
    "!lm-eval \\\n",
    "      --model hf \\\n",
    "      --model_args pretrained=unsloth/Llama-3.2-3B-Instruct \\\n",
    "      --tasks arc_challenge \\\n",
    "      --device cuda \\\n",
    "      --batch_size 64"
   ]
  },
  {
   "cell_type": "code",
   "execution_count": 2,
   "metadata": {
    "id": "xGpqMARYvBGm"
   },
   "outputs": [
    {
     "name": "stdout",
     "output_type": "stream",
     "text": [
      "2024-11-20:22:41:43,060 INFO     [__main__.py:279] Verbosity set to INFO\n",
      "2024-11-20:22:41:50,321 INFO     [__main__.py:376] Selected Tasks: ['arc_cot_llama_3_2_3B_instruct']\n",
      "2024-11-20:22:41:50,322 INFO     [evaluator.py:164] Setting random seed to 0 | Setting numpy seed to 1234 | Setting torch manual seed to 1234 | Setting fewshot manual seed to 1234\n",
      "2024-11-20:22:41:50,322 INFO     [evaluator.py:201] Initializing hf model, with arguments: {'pretrained': 'unsloth/Llama-3.2-3B-Instruct'}\n",
      "2024-11-20:22:41:50,393 INFO     [huggingface.py:131] Using device 'cuda'\n",
      "2024-11-20:22:41:51,098 INFO     [huggingface.py:368] Model parallel was set to False, max memory was not set, and device map was set to {'': 'cuda'}\n",
      "2024-11-20:22:41:59,103 INFO     [task.py:415] Building contexts for arc_cot_llama_3_2_3B_instruct on rank 0...\n",
      "100%|█████████████████████████████████████| 1172/1172 [00:01<00:00, 1145.38it/s]\n",
      "2024-11-20:22:42:00,209 INFO     [evaluator.py:496] Running loglikelihood requests\n",
      "Running loglikelihood requests: 100%|███████| 4687/4687 [01:14<00:00, 62.72it/s]\n",
      "2024-11-20:22:43:19,590 INFO     [evaluation_tracker.py:269] Output path not provided, skipping saving results aggregated\n",
      "hf (pretrained=unsloth/Llama-3.2-3B-Instruct), gen_kwargs: (None), limit: None, num_fewshot: None, batch_size: 64\n",
      "|            Tasks            |Version|Filter|n-shot| Metric |   |Value |   |Stderr|\n",
      "|-----------------------------|------:|------|-----:|--------|---|-----:|---|-----:|\n",
      "|arc_cot_llama_3_2_3B_instruct|      1|none  |     0|acc     |↑  |0.5691|±  |0.0145|\n",
      "|                             |       |none  |     0|acc_norm|↑  |0.5469|±  |0.0145|\n",
      "\n"
     ]
    }
   ],
   "source": [
    "!lm-eval \\\n",
    "      --model hf \\\n",
    "      --model_args pretrained=unsloth/Llama-3.2-3B-Instruct \\\n",
    "      --tasks arc_cot_llama_3_2_3B_instruct \\\n",
    "      --device cuda \\\n",
    "      --batch_size 64"
   ]
  },
  {
   "cell_type": "code",
   "execution_count": 3,
   "metadata": {},
   "outputs": [
    {
     "name": "stdout",
     "output_type": "stream",
     "text": [
      "2024-11-20:22:43:34,102 INFO     [__main__.py:279] Verbosity set to INFO\n",
      "2024-11-20:22:43:41,255 INFO     [__main__.py:376] Selected Tasks: ['arc_cot_llama_3_2_3B_instruct']\n",
      "2024-11-20:22:43:41,257 INFO     [evaluator.py:164] Setting random seed to 0 | Setting numpy seed to 1234 | Setting torch manual seed to 1234 | Setting fewshot manual seed to 1234\n",
      "2024-11-20:22:43:41,257 INFO     [evaluator.py:201] Initializing hf model, with arguments: {'pretrained': 'unsloth/Llama-3.2-3B-Instruct'}\n",
      "2024-11-20:22:43:41,325 INFO     [huggingface.py:131] Using device 'cuda'\n",
      "2024-11-20:22:43:43,052 INFO     [huggingface.py:368] Model parallel was set to False, max memory was not set, and device map was set to {'': 'cuda'}\n",
      "2024-11-20:22:43:50,903 WARNING  [evaluator.py:270] Overwriting default num_fewshot of arc_cot_llama_3_2_3B_instruct from None to 3\n",
      "2024-11-20:22:43:50,903 INFO     [task.py:415] Building contexts for arc_cot_llama_3_2_3B_instruct on rank 0...\n",
      "100%|██████████████████████████████████████| 1172/1172 [00:07<00:00, 163.53it/s]\n",
      "2024-11-20:22:43:58,164 INFO     [evaluator.py:496] Running loglikelihood requests\n",
      "Running loglikelihood requests: 100%|███████| 4687/4687 [04:52<00:00, 16.02it/s]\n",
      "2024-11-20:22:49:09,770 INFO     [evaluation_tracker.py:269] Output path not provided, skipping saving results aggregated\n",
      "hf (pretrained=unsloth/Llama-3.2-3B-Instruct), gen_kwargs: (None), limit: None, num_fewshot: 3, batch_size: 16\n",
      "|            Tasks            |Version|Filter|n-shot| Metric |   |Value |   |Stderr|\n",
      "|-----------------------------|------:|------|-----:|--------|---|-----:|---|-----:|\n",
      "|arc_cot_llama_3_2_3B_instruct|      1|none  |     3|acc     |↑  |0.6169|±  |0.0142|\n",
      "|                             |       |none  |     3|acc_norm|↑  |0.6169|±  |0.0142|\n",
      "\n"
     ]
    }
   ],
   "source": [
    "!lm-eval \\\n",
    "    --model hf \\\n",
    "    --model_args pretrained=unsloth/Llama-3.2-3B-Instruct \\\n",
    "    --tasks arc_cot_llama_3_2_3B_instruct \\\n",
    "    --num_fewshot 3 \\\n",
    "    --device cuda \\\n",
    "    --batch_size 16"
   ]
  }
 ],
 "metadata": {
  "accelerator": "GPU",
  "colab": {
   "gpuType": "T4",
   "provenance": []
  },
  "kernelspec": {
   "display_name": "venv",
   "language": "python",
   "name": "python3"
  },
  "language_info": {
   "codemirror_mode": {
    "name": "ipython",
    "version": 3
   },
   "file_extension": ".py",
   "mimetype": "text/x-python",
   "name": "python",
   "nbconvert_exporter": "python",
   "pygments_lexer": "ipython3",
   "version": "3.12.7"
  }
 },
 "nbformat": 4,
 "nbformat_minor": 4
}
