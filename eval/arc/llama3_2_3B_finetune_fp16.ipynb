{
  "cells": [
    {
      "cell_type": "code",
      "execution_count": null,
      "metadata": {
        "id": "LBOxV5Icugsg"
      },
      "outputs": [],
      "source": [
        "!git clone --depth 1 https://github.com/srivarshan-s/lm-evaluation-harness.git"
      ]
    },
    {
      "cell_type": "code",
      "execution_count": null,
      "metadata": {
        "id": "HsW1f64zu5tS"
      },
      "outputs": [],
      "source": [
        "!pip install -e lm-evaluation-harness/"
      ]
    },
    {
      "cell_type": "code",
      "execution_count": 1,
      "metadata": {
        "colab": {
          "base_uri": "https://localhost:8080/"
        },
        "id": "xGpqMARYvBGm",
        "outputId": "d643d748-ab64-4361-8353-34e102a8dda9"
      },
      "outputs": [
        {
          "name": "stdout",
          "output_type": "stream",
          "text": [
            "2024-12-17 04:49:39.478478: E external/local_xla/xla/stream_executor/cuda/cuda_fft.cc:485] Unable to register cuFFT factory: Attempting to register factory for plugin cuFFT when one has already been registered\n",
            "2024-12-17 04:49:39.513968: E external/local_xla/xla/stream_executor/cuda/cuda_dnn.cc:8454] Unable to register cuDNN factory: Attempting to register factory for plugin cuDNN when one has already been registered\n",
            "2024-12-17 04:49:39.524177: E external/local_xla/xla/stream_executor/cuda/cuda_blas.cc:1452] Unable to register cuBLAS factory: Attempting to register factory for plugin cuBLAS when one has already been registered\n",
            "2024-12-17 04:49:39.546957: I tensorflow/core/platform/cpu_feature_guard.cc:210] This TensorFlow binary is optimized to use available CPU instructions in performance-critical operations.\n",
            "To enable the following instructions: AVX2 FMA, in other operations, rebuild TensorFlow with the appropriate compiler flags.\n",
            "2024-12-17 04:49:40.785926: W tensorflow/compiler/tf2tensorrt/utils/py_utils.cc:38] TF-TRT Warning: Could not find TensorRT\n",
            "2024-12-17:04:49:42,712 INFO     [__main__.py:279] Verbosity set to INFO\n",
            "2024-12-17:04:49:53,979 INFO     [__main__.py:376] Selected Tasks: ['arc_cot_llama_3_2_3B_finetune']\n",
            "2024-12-17:04:49:53,981 INFO     [evaluator.py:164] Setting random seed to 0 | Setting numpy seed to 1234 | Setting torch manual seed to 1234 | Setting fewshot manual seed to 1234\n",
            "2024-12-17:04:49:53,981 INFO     [evaluator.py:201] Initializing hf model, with arguments: {'pretrained': 'rohitnagraj/Llama3_1_3B_COT_Finetuned'}\n",
            "2024-12-17:04:49:54,046 INFO     [huggingface.py:131] Using device 'cuda'\n",
            "2024-12-17:04:49:54,968 INFO     [huggingface.py:368] Model parallel was set to False, max memory was not set, and device map was set to {'': 'cuda'}\n",
            "2024-12-17:04:49:58,477 INFO     [task.py:415] Building contexts for arc_cot_llama_3_2_3B_finetune on rank 0...\n",
            "100% 1172/1172 [00:01<00:00, 1029.83it/s]\n",
            "2024-12-17:04:49:59,682 INFO     [evaluator.py:496] Running loglikelihood requests\n",
            "Running loglikelihood requests:   0% 0/4687 [00:00<?, ?it/s]Passed argument batch_size = auto:1. Detecting largest batch size\n",
            "Determined largest batch size: 32\n",
            "Running loglikelihood requests: 100% 4687/4687 [01:44<00:00, 44.98it/s]\n",
            "fatal: not a git repository (or any of the parent directories): .git\n",
            "2024-12-17:04:51:52,225 INFO     [evaluation_tracker.py:269] Output path not provided, skipping saving results aggregated\n",
            "hf (pretrained=rohitnagraj/Llama3_1_3B_COT_Finetuned), gen_kwargs: (None), limit: None, num_fewshot: None, batch_size: auto (32)\n",
            "|            Tasks            |Version|Filter|n-shot| Metric |   |Value |   |Stderr|\n",
            "|-----------------------------|------:|------|-----:|--------|---|-----:|---|-----:|\n",
            "|arc_cot_llama_3_2_3B_finetune|      1|none  |     0|acc     |↑  |0.5911|±  |0.0117|\n",
            "|                             |       |none  |     0|acc_norm|↑  |0.5985|±  |0.0117|\n",
            "\n"
          ]
        }
      ],
      "source": [
        "!lm-eval \\\n",
        "      --model hf \\\n",
        "      --model_args pretrained=rohitnagraj/Llama3_2_3B_COT_Finetuned \\\n",
        "      --tasks arc_cot_llama_3_2_3B_finetune \\\n",
        "      --device cuda \\\n",
        "      --batch_size auto"
      ]
    }
  ],
  "metadata": {
    "accelerator": "GPU",
    "colab": {
      "gpuType": "T4",
      "provenance": []
    },
    "kernelspec": {
      "display_name": ".venv",
      "language": "python",
      "name": "python3"
    },
    "language_info": {
      "codemirror_mode": {
        "name": "ipython",
        "version": 3
      },
      "file_extension": ".py",
      "mimetype": "text/x-python",
      "name": "python",
      "nbconvert_exporter": "python",
      "pygments_lexer": "ipython3",
      "version": "3.12.3"
    }
  },
  "nbformat": 4,
  "nbformat_minor": 0
}
