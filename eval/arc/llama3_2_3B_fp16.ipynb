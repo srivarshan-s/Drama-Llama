{
 "cells": [
  {
   "cell_type": "code",
   "execution_count": null,
   "metadata": {
    "colab": {
     "base_uri": "https://localhost:8080/"
    },
    "id": "LBOxV5Icugsg",
    "outputId": "f7fcb886-9d56-4c7f-afa3-4f8cacf76e66"
   },
   "outputs": [],
   "source": [
    "!git clone --depth 1 https://github.com/EleutherAI/lm-evaluation-harness"
   ]
  },
  {
   "cell_type": "code",
   "execution_count": 3,
   "metadata": {
    "id": "g2m-z94Lu1GL"
   },
   "outputs": [],
   "source": [
    "!cd lm-evaluation-harness/"
   ]
  },
  {
   "cell_type": "code",
   "execution_count": null,
   "metadata": {
    "colab": {
     "base_uri": "https://localhost:8080/"
    },
    "id": "HsW1f64zu5tS",
    "outputId": "33b2089d-2b29-478a-e27b-a6a2343298c6"
   },
   "outputs": [],
   "source": [
    "!pip install -e lm-evaluation-harness/"
   ]
  },
  {
   "cell_type": "code",
   "execution_count": 1,
   "metadata": {
    "colab": {
     "base_uri": "https://localhost:8080/"
    },
    "id": "ONwRbv9su7Hf",
    "outputId": "fbde9617-000f-41b4-8db9-21faf1e90af5"
   },
   "outputs": [
    {
     "name": "stdout",
     "output_type": "stream",
     "text": [
      "2024-10-24:06:40:58,191 INFO     [__main__.py:279] Verbosity set to INFO\n",
      "2024-10-24:06:41:04,029 INFO     [__init__.py:459] The tag 'arc_ca' is already registered as a group, this tag will not be registered. This may affect tasks you want to call.\n",
      "2024-10-24:06:41:04,048 INFO     [__init__.py:459] The tag 'arc_ca' is already registered as a group, this tag will not be registered. This may affect tasks you want to call.\n",
      "2024-10-24:06:41:05,416 INFO     [__main__.py:376] Selected Tasks: ['arc_challenge']\n",
      "2024-10-24:06:41:05,417 INFO     [evaluator.py:164] Setting random seed to 0 | Setting numpy seed to 1234 | Setting torch manual seed to 1234 | Setting fewshot manual seed to 1234\n",
      "2024-10-24:06:41:05,417 INFO     [evaluator.py:201] Initializing hf model, with arguments: {'pretrained': 'unsloth/Llama-3.2-3B'}\n",
      "2024-10-24:06:41:06,039 INFO     [huggingface.py:129] Using device 'cuda:0'\n",
      "2024-10-24:06:41:06,317 INFO     [huggingface.py:481] Using model type 'default'\n",
      "2024-10-24:06:41:06,892 INFO     [huggingface.py:365] Model parallel was set to False, max memory was not set, and device map was set to {'': 'cuda:0'}\n",
      "2024-10-24:06:41:14,356 WARNING  [model.py:422] model.chat_template was called with the chat_template set to False or None. Therefore no chat template will be applied. Make sure this is an intended behavior.\n",
      "2024-10-24:06:41:14,356 INFO     [task.py:415] Building contexts for arc_challenge on rank 0...\n",
      "100%|█████████████████████████████████████| 1172/1172 [00:00<00:00, 1463.54it/s]\n",
      "2024-10-24:06:41:15,207 INFO     [evaluator.py:489] Running loglikelihood requests\n",
      "Running loglikelihood requests:   0%|                  | 0/4687 [00:00<?, ?it/s]Passed argument batch_size = auto:1. Detecting largest batch size\n",
      "Determined largest batch size: 32\n",
      "Running loglikelihood requests: 100%|███████| 4687/4687 [03:00<00:00, 25.90it/s]\n",
      "2024-10-24:06:44:19,323 INFO     [evaluation_tracker.py:269] Output path not provided, skipping saving results aggregated\n",
      "hf (pretrained=unsloth/Llama-3.2-3B), gen_kwargs: (None), limit: None, num_fewshot: None, batch_size: auto (32)\n",
      "|    Tasks    |Version|Filter|n-shot| Metric |   |Value |   |Stderr|\n",
      "|-------------|------:|------|-----:|--------|---|-----:|---|-----:|\n",
      "|arc_challenge|      1|none  |     0|acc     |↑  |0.4224|±  |0.0144|\n",
      "|             |       |none  |     0|acc_norm|↑  |0.4573|±  |0.0146|\n",
      "\n"
     ]
    }
   ],
   "source": [
    "!lm-eval \\\n",
    "      --model hf \\\n",
    "      --model_args pretrained=unsloth/Llama-3.2-3B \\\n",
    "      --tasks arc_challenge \\\n",
    "      --device cuda:0 \\\n",
    "      --batch_size auto"
   ]
  },
  {
   "cell_type": "code",
   "execution_count": 1,
   "metadata": {
    "id": "xGpqMARYvBGm"
   },
   "outputs": [
    {
     "name": "stdout",
     "output_type": "stream",
     "text": [
      "2024-11-20:21:47:58,848 INFO     [__main__.py:279] Verbosity set to INFO\n",
      "2024-11-20:21:48:08,340 INFO     [__main__.py:376] Selected Tasks: ['arc_cot_llama_3_2_3B']\n",
      "2024-11-20:21:48:08,343 INFO     [evaluator.py:164] Setting random seed to 0 | Setting numpy seed to 1234 | Setting torch manual seed to 1234 | Setting fewshot manual seed to 1234\n",
      "2024-11-20:21:48:08,343 INFO     [evaluator.py:201] Initializing hf model, with arguments: {'pretrained': 'unsloth/Llama-3.2-3B'}\n",
      "2024-11-20:21:48:08,415 INFO     [huggingface.py:131] Using device 'cuda'\n",
      "2024-11-20:21:48:09,199 INFO     [huggingface.py:368] Model parallel was set to False, max memory was not set, and device map was set to {'': 'cuda'}\n",
      "README.md: 100%|███████████████████████████████| 741/741 [00:00<00:00, 4.65MB/s]\n",
      "(…)lama_3_2_3B/train-00000-of-00001.parquet: 100%|█| 344k/344k [00:00<00:00, 1.7\n",
      "Llama_3_2_3B/test-00000-of-00001.parquet: 100%|█| 370k/370k [00:00<00:00, 2.84MB\n",
      "(…)3_2_3B/validation-00000-of-00001.parquet: 100%|█| 100k/100k [00:00<00:00, 1.7\n",
      "Generating train split: 1119 examples [00:00, 129495.26 examples/s]\n",
      "Generating test split: 1172 examples [00:00, 258043.27 examples/s]\n",
      "Generating validation split: 299 examples [00:00, 113554.59 examples/s]\n",
      "2024-11-20:21:48:20,782 INFO     [task.py:415] Building contexts for arc_cot_llama_3_2_3B on rank 0...\n",
      "100%|██████████████████████████████████████| 1172/1172 [00:01<00:00, 940.93it/s]\n",
      "2024-11-20:21:48:22,122 INFO     [evaluator.py:496] Running loglikelihood requests\n",
      "Running loglikelihood requests: 100%|███████| 4687/4687 [01:11<00:00, 65.50it/s]\n",
      "2024-11-20:21:49:38,152 INFO     [evaluation_tracker.py:269] Output path not provided, skipping saving results aggregated\n",
      "hf (pretrained=unsloth/Llama-3.2-3B), gen_kwargs: (None), limit: None, num_fewshot: None, batch_size: 64\n",
      "|       Tasks        |Version|Filter|n-shot| Metric |   |Value |   |Stderr|\n",
      "|--------------------|------:|------|-----:|--------|---|-----:|---|-----:|\n",
      "|arc_cot_llama_3_2_3B|      1|none  |     0|acc     |↑  |0.4565|±  |0.0146|\n",
      "|                    |       |none  |     0|acc_norm|↑  |0.4497|±  |0.0145|\n",
      "\n"
     ]
    }
   ],
   "source": [
    "!lm-eval \\\n",
    "      --model hf \\\n",
    "      --model_args pretrained=unsloth/Llama-3.2-3B \\\n",
    "      --tasks arc_cot_llama_3_2_3B \\\n",
    "      --device cuda \\\n",
    "      --batch_size 64"
   ]
  },
  {
   "cell_type": "code",
   "execution_count": 3,
   "metadata": {},
   "outputs": [
    {
     "name": "stdout",
     "output_type": "stream",
     "text": [
      "2024-11-20:21:52:28,521 INFO     [__main__.py:279] Verbosity set to INFO\n",
      "2024-11-20:21:52:35,258 INFO     [__main__.py:376] Selected Tasks: ['arc_cot_llama_3_2_3B']\n",
      "2024-11-20:21:52:35,259 INFO     [evaluator.py:164] Setting random seed to 0 | Setting numpy seed to 1234 | Setting torch manual seed to 1234 | Setting fewshot manual seed to 1234\n",
      "2024-11-20:21:52:35,259 INFO     [evaluator.py:201] Initializing hf model, with arguments: {'pretrained': 'unsloth/Llama-3.2-3B'}\n",
      "2024-11-20:21:52:35,329 INFO     [huggingface.py:131] Using device 'cuda'\n",
      "2024-11-20:21:52:36,026 INFO     [huggingface.py:368] Model parallel was set to False, max memory was not set, and device map was set to {'': 'cuda'}\n",
      "2024-11-20:21:52:45,188 WARNING  [evaluator.py:270] Overwriting default num_fewshot of arc_cot_llama_3_2_3B from None to 3\n",
      "2024-11-20:21:52:45,188 INFO     [task.py:415] Building contexts for arc_cot_llama_3_2_3B on rank 0...\n",
      "100%|██████████████████████████████████████| 1172/1172 [00:06<00:00, 168.81it/s]\n",
      "2024-11-20:21:52:52,220 INFO     [evaluator.py:496] Running loglikelihood requests\n",
      "Running loglikelihood requests: 100%|███████| 4687/4687 [04:33<00:00, 17.12it/s]\n",
      "2024-11-20:21:57:44,111 INFO     [evaluation_tracker.py:269] Output path not provided, skipping saving results aggregated\n",
      "hf (pretrained=unsloth/Llama-3.2-3B), gen_kwargs: (None), limit: None, num_fewshot: 3, batch_size: 16\n",
      "|       Tasks        |Version|Filter|n-shot| Metric |   |Value |   |Stderr|\n",
      "|--------------------|------:|------|-----:|--------|---|-----:|---|-----:|\n",
      "|arc_cot_llama_3_2_3B|      1|none  |     3|acc     |↑  |0.5085|±  |0.0146|\n",
      "|                    |       |none  |     3|acc_norm|↑  |0.5077|±  |0.0146|\n",
      "\n"
     ]
    }
   ],
   "source": [
    "!lm-eval \\\n",
    "    --model hf \\\n",
    "    --model_args pretrained=unsloth/Llama-3.2-3B \\\n",
    "    --tasks arc_cot_llama_3_2_3B \\\n",
    "    --num_fewshot 3 \\\n",
    "    --device cuda \\\n",
    "    --batch_size 16"
   ]
  }
 ],
 "metadata": {
  "accelerator": "GPU",
  "colab": {
   "gpuType": "T4",
   "provenance": []
  },
  "kernelspec": {
   "display_name": "venv",
   "language": "python",
   "name": "python3"
  },
  "language_info": {
   "codemirror_mode": {
    "name": "ipython",
    "version": 3
   },
   "file_extension": ".py",
   "mimetype": "text/x-python",
   "name": "python",
   "nbconvert_exporter": "python",
   "pygments_lexer": "ipython3",
   "version": "3.12.7"
  }
 },
 "nbformat": 4,
 "nbformat_minor": 4
}
