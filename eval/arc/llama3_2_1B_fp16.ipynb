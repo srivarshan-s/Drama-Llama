{
 "cells": [
  {
   "cell_type": "code",
   "execution_count": null,
   "metadata": {
    "colab": {
     "base_uri": "https://localhost:8080/"
    },
    "id": "LBOxV5Icugsg",
    "outputId": "f7fcb886-9d56-4c7f-afa3-4f8cacf76e66"
   },
   "outputs": [],
   "source": [
    "!git clone --depth 1 https://github.com/EleutherAI/lm-evaluation-harness"
   ]
  },
  {
   "cell_type": "code",
   "execution_count": 3,
   "metadata": {
    "id": "g2m-z94Lu1GL"
   },
   "outputs": [],
   "source": [
    "!cd lm-evaluation-harness/"
   ]
  },
  {
   "cell_type": "code",
   "execution_count": null,
   "metadata": {
    "colab": {
     "base_uri": "https://localhost:8080/"
    },
    "id": "HsW1f64zu5tS",
    "outputId": "33b2089d-2b29-478a-e27b-a6a2343298c6"
   },
   "outputs": [],
   "source": [
    "!pip install -e lm-evaluation-harness/"
   ]
  },
  {
   "cell_type": "code",
   "execution_count": 5,
   "metadata": {},
   "outputs": [
    {
     "name": "stdout",
     "output_type": "stream",
     "text": [
      "2024-11-20:22:31:38,268 INFO     [__main__.py:279] Verbosity set to INFO\n",
      "2024-11-20:22:31:46,807 INFO     [__main__.py:376] Selected Tasks: ['arc_challenge']\n",
      "2024-11-20:22:31:46,809 INFO     [evaluator.py:164] Setting random seed to 0 | Setting numpy seed to 1234 | Setting torch manual seed to 1234 | Setting fewshot manual seed to 1234\n",
      "2024-11-20:22:31:46,809 INFO     [evaluator.py:201] Initializing hf model, with arguments: {'pretrained': 'unsloth/Llama-3.2-1B'}\n",
      "2024-11-20:22:31:46,881 INFO     [huggingface.py:131] Using device 'cuda'\n",
      "2024-11-20:22:31:47,619 INFO     [huggingface.py:368] Model parallel was set to False, max memory was not set, and device map was set to {'': 'cuda'}\n",
      "2024-11-20:22:31:54,145 INFO     [task.py:415] Building contexts for arc_challenge on rank 0...\n",
      "100%|██████████████████████████████████████| 1172/1172 [00:01<00:00, 940.09it/s]\n",
      "2024-11-20:22:31:55,481 INFO     [evaluator.py:496] Running loglikelihood requests\n",
      "Running loglikelihood requests: 100%|██████| 4687/4687 [00:08<00:00, 525.37it/s]\n",
      "2024-11-20:22:32:07,698 INFO     [evaluation_tracker.py:269] Output path not provided, skipping saving results aggregated\n",
      "hf (pretrained=unsloth/Llama-3.2-1B), gen_kwargs: (None), limit: None, num_fewshot: None, batch_size: 64\n",
      "|    Tasks    |Version|Filter|n-shot| Metric |   |Value |   |Stderr|\n",
      "|-------------|------:|------|-----:|--------|---|-----:|---|-----:|\n",
      "|arc_challenge|      1|none  |     0|acc     |↑  |0.3157|±  |0.0136|\n",
      "|             |       |none  |     0|acc_norm|↑  |0.3643|±  |0.0141|\n",
      "\n"
     ]
    }
   ],
   "source": [
    "!lm-eval \\\n",
    "      --model hf \\\n",
    "      --model_args pretrained=unsloth/Llama-3.2-1B \\\n",
    "      --tasks arc_challenge \\\n",
    "      --device cuda \\\n",
    "      --batch_size 64"
   ]
  },
  {
   "cell_type": "code",
   "execution_count": 6,
   "metadata": {
    "colab": {
     "base_uri": "https://localhost:8080/"
    },
    "id": "ONwRbv9su7Hf",
    "outputId": "fbde9617-000f-41b4-8db9-21faf1e90af5"
   },
   "outputs": [
    {
     "name": "stdout",
     "output_type": "stream",
     "text": [
      "2024-11-20:22:32:18,006 INFO     [__main__.py:279] Verbosity set to INFO\n",
      "2024-11-20:22:32:25,819 INFO     [__main__.py:376] Selected Tasks: ['arc_cot_llama_3_2_1B']\n",
      "2024-11-20:22:32:25,820 INFO     [evaluator.py:164] Setting random seed to 0 | Setting numpy seed to 1234 | Setting torch manual seed to 1234 | Setting fewshot manual seed to 1234\n",
      "2024-11-20:22:32:25,820 INFO     [evaluator.py:201] Initializing hf model, with arguments: {'pretrained': 'unsloth/Llama-3.2-1B'}\n",
      "2024-11-20:22:32:25,893 INFO     [huggingface.py:131] Using device 'cuda'\n",
      "2024-11-20:22:32:26,637 INFO     [huggingface.py:368] Model parallel was set to False, max memory was not set, and device map was set to {'': 'cuda'}\n",
      "README.md: 100%|███████████████████████████| 1.01k/1.01k [00:00<00:00, 2.98MB/s]\n",
      "Generating train split: 1119 examples [00:00, 136762.81 examples/s]\n",
      "Generating test split: 1172 examples [00:00, 202010.53 examples/s]\n",
      "Generating validation split: 299 examples [00:00, 108298.52 examples/s]\n",
      "2024-11-20:22:32:31,375 INFO     [task.py:415] Building contexts for arc_cot_llama_3_2_1B on rank 0...\n",
      "100%|█████████████████████████████████████| 1172/1172 [00:01<00:00, 1031.74it/s]\n",
      "2024-11-20:22:32:32,597 INFO     [evaluator.py:496] Running loglikelihood requests\n",
      "Running loglikelihood requests: 100%|██████| 4687/4687 [00:28<00:00, 162.06it/s]\n",
      "2024-11-20:22:33:06,138 INFO     [evaluation_tracker.py:269] Output path not provided, skipping saving results aggregated\n",
      "hf (pretrained=unsloth/Llama-3.2-1B), gen_kwargs: (None), limit: None, num_fewshot: None, batch_size: 64\n",
      "|       Tasks        |Version|Filter|n-shot| Metric |   |Value |   |Stderr|\n",
      "|--------------------|------:|------|-----:|--------|---|-----:|---|-----:|\n",
      "|arc_cot_llama_3_2_1B|      1|none  |     0|acc     |↑  |0.2790|±  |0.0131|\n",
      "|                    |       |none  |     0|acc_norm|↑  |0.2867|±  |0.0132|\n",
      "\n"
     ]
    }
   ],
   "source": [
    "!lm-eval \\\n",
    "      --model hf \\\n",
    "      --model_args pretrained=unsloth/Llama-3.2-1B \\\n",
    "      --tasks arc_cot_llama_3_2_1B \\\n",
    "      --device cuda \\\n",
    "      --batch_size 64"
   ]
  },
  {
   "cell_type": "code",
   "execution_count": 7,
   "metadata": {},
   "outputs": [
    {
     "name": "stdout",
     "output_type": "stream",
     "text": [
      "2024-11-20:22:33:11,713 INFO     [__main__.py:279] Verbosity set to INFO\n",
      "2024-11-20:22:33:19,928 INFO     [__main__.py:376] Selected Tasks: ['arc_cot_llama_3_2_1B']\n",
      "2024-11-20:22:33:19,929 INFO     [evaluator.py:164] Setting random seed to 0 | Setting numpy seed to 1234 | Setting torch manual seed to 1234 | Setting fewshot manual seed to 1234\n",
      "2024-11-20:22:33:19,929 INFO     [evaluator.py:201] Initializing hf model, with arguments: {'pretrained': 'unsloth/Llama-3.2-1B'}\n",
      "2024-11-20:22:33:20,001 INFO     [huggingface.py:131] Using device 'cuda'\n",
      "2024-11-20:22:33:20,808 INFO     [huggingface.py:368] Model parallel was set to False, max memory was not set, and device map was set to {'': 'cuda'}\n",
      "2024-11-20:22:33:25,569 WARNING  [evaluator.py:270] Overwriting default num_fewshot of arc_cot_llama_3_2_1B from None to 3\n",
      "2024-11-20:22:33:25,569 INFO     [task.py:415] Building contexts for arc_cot_llama_3_2_1B on rank 0...\n",
      "100%|██████████████████████████████████████| 1172/1172 [00:06<00:00, 177.68it/s]\n",
      "2024-11-20:22:33:32,257 INFO     [evaluator.py:496] Running loglikelihood requests\n",
      "Running loglikelihood requests: 100%|███████| 4687/4687 [01:50<00:00, 42.58it/s]\n",
      "2024-11-20:22:35:36,236 INFO     [evaluation_tracker.py:269] Output path not provided, skipping saving results aggregated\n",
      "hf (pretrained=unsloth/Llama-3.2-1B), gen_kwargs: (None), limit: None, num_fewshot: 3, batch_size: 32\n",
      "|       Tasks        |Version|Filter|n-shot| Metric |   |Value |   |Stderr|\n",
      "|--------------------|------:|------|-----:|--------|---|-----:|---|-----:|\n",
      "|arc_cot_llama_3_2_1B|      1|none  |     3|acc     |↑  |0.3055|±  |0.0135|\n",
      "|                    |       |none  |     3|acc_norm|↑  |0.3148|±  |0.0136|\n",
      "\n"
     ]
    }
   ],
   "source": [
    "!lm-eval \\\n",
    "    --model hf \\\n",
    "    --model_args pretrained=unsloth/Llama-3.2-1B \\\n",
    "    --tasks arc_cot_llama_3_2_1B \\\n",
    "    --num_fewshot 3 \\\n",
    "    --device cuda \\\n",
    "    --batch_size 32"
   ]
  }
 ],
 "metadata": {
  "accelerator": "GPU",
  "colab": {
   "gpuType": "T4",
   "provenance": []
  },
  "kernelspec": {
   "display_name": "venv",
   "language": "python",
   "name": "python3"
  },
  "language_info": {
   "codemirror_mode": {
    "name": "ipython",
    "version": 3
   },
   "file_extension": ".py",
   "mimetype": "text/x-python",
   "name": "python",
   "nbconvert_exporter": "python",
   "pygments_lexer": "ipython3",
   "version": "3.12.7"
  }
 },
 "nbformat": 4,
 "nbformat_minor": 4
}
