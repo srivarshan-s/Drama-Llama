{
 "cells": [
  {
   "cell_type": "code",
   "execution_count": null,
   "metadata": {
    "colab": {
     "base_uri": "https://localhost:8080/"
    },
    "id": "LBOxV5Icugsg",
    "outputId": "f7fcb886-9d56-4c7f-afa3-4f8cacf76e66"
   },
   "outputs": [],
   "source": [
    "!git clone --depth 1 https://github.com/EleutherAI/lm-evaluation-harness"
   ]
  },
  {
   "cell_type": "code",
   "execution_count": 3,
   "metadata": {
    "id": "g2m-z94Lu1GL"
   },
   "outputs": [],
   "source": [
    "!cd lm-evaluation-harness/"
   ]
  },
  {
   "cell_type": "code",
   "execution_count": null,
   "metadata": {
    "colab": {
     "base_uri": "https://localhost:8080/"
    },
    "id": "HsW1f64zu5tS",
    "outputId": "33b2089d-2b29-478a-e27b-a6a2343298c6"
   },
   "outputs": [],
   "source": [
    "!pip install -e lm-evaluation-harness/"
   ]
  },
  {
   "cell_type": "code",
   "execution_count": 7,
   "metadata": {
    "colab": {
     "base_uri": "https://localhost:8080/"
    },
    "id": "ONwRbv9su7Hf",
    "outputId": "fbde9617-000f-41b4-8db9-21faf1e90af5"
   },
   "outputs": [
    {
     "name": "stdout",
     "output_type": "stream",
     "text": [
      "2024-10-23 01:58:47.019643: E external/local_xla/xla/stream_executor/cuda/cuda_fft.cc:485] Unable to register cuFFT factory: Attempting to register factory for plugin cuFFT when one has already been registered\n",
      "2024-10-23 01:58:47.039028: E external/local_xla/xla/stream_executor/cuda/cuda_dnn.cc:8454] Unable to register cuDNN factory: Attempting to register factory for plugin cuDNN when one has already been registered\n",
      "2024-10-23 01:58:47.044972: E external/local_xla/xla/stream_executor/cuda/cuda_blas.cc:1452] Unable to register cuBLAS factory: Attempting to register factory for plugin cuBLAS when one has already been registered\n",
      "2024-10-23 01:58:47.059382: I tensorflow/core/platform/cpu_feature_guard.cc:210] This TensorFlow binary is optimized to use available CPU instructions in performance-critical operations.\n",
      "To enable the following instructions: AVX2 FMA, in other operations, rebuild TensorFlow with the appropriate compiler flags.\n",
      "2024-10-23 01:58:48.781101: W tensorflow/compiler/tf2tensorrt/utils/py_utils.cc:38] TF-TRT Warning: Could not find TensorRT\n",
      "2024-10-23:01:58:51,741 INFO     [__main__.py:279] Verbosity set to INFO\n",
      "2024-10-23:01:59:03,885 INFO     [__main__.py:376] Selected Tasks: ['arc_challenge']\n",
      "2024-10-23:01:59:03,889 INFO     [evaluator.py:164] Setting random seed to 0 | Setting numpy seed to 1234 | Setting torch manual seed to 1234 | Setting fewshot manual seed to 1234\n",
      "2024-10-23:01:59:03,889 INFO     [evaluator.py:201] Initializing hf model, with arguments: {'pretrained': 'unsloth/Llama-3.2-3B-Instruct'}\n",
      "2024-10-23:01:59:03,961 INFO     [huggingface.py:129] Using device 'cuda:0'\n",
      "2024-10-23:01:59:04,209 INFO     [huggingface.py:481] Using model type 'default'\n",
      "2024-10-23:01:59:04,861 INFO     [huggingface.py:365] Model parallel was set to False, max memory was not set, and device map was set to {'': 'cuda:0'}\n",
      "2024-10-23:01:59:31,331 WARNING  [model.py:422] model.chat_template was called with the chat_template set to False or None. Therefore no chat template will be applied. Make sure this is an intended behavior.\n",
      "2024-10-23:01:59:31,332 INFO     [task.py:415] Building contexts for arc_challenge on rank 0...\n",
      "100% 1172/1172 [00:01<00:00, 1065.49it/s]\n",
      "2024-10-23:01:59:32,494 INFO     [evaluator.py:489] Running loglikelihood requests\n",
      "Running loglikelihood requests:   0% 0/4687 [00:00<?, ?it/s]Passed argument batch_size = auto:1. Detecting largest batch size\n",
      "We detected that you are passing `past_key_values` as a tuple and this is deprecated and will be removed in v4.43. Please use an appropriate `Cache` class (https://huggingface.co/docs/transformers/v4.41.3/en/internal/generation_utils#transformers.Cache)\n",
      "Determined largest batch size: 16\n",
      "Running loglikelihood requests: 100% 4687/4687 [09:07<00:00,  8.56it/s]\n",
      "fatal: not a git repository (or any of the parent directories): .git\n",
      "2024-10-23:02:08:46,973 INFO     [evaluation_tracker.py:269] Output path not provided, skipping saving results aggregated\n",
      "hf (pretrained=unsloth/Llama-3.2-3B-Instruct), gen_kwargs: (None), limit: None, num_fewshot: None, batch_size: auto (16)\n",
      "|    Tasks    |Version|Filter|n-shot| Metric |   |Value|   |Stderr|\n",
      "|-------------|------:|------|-----:|--------|---|----:|---|-----:|\n",
      "|arc_challenge|      1|none  |     0|acc     |↑  |0.436|±  |0.0145|\n",
      "|             |       |none  |     0|acc_norm|↑  |0.459|±  |0.0146|\n",
      "\n"
     ]
    }
   ],
   "source": [
    "!lm-eval \\\n",
    "      --model hf \\\n",
    "      --model_args pretrained=unsloth/Llama-3.2-3B-Instruct \\\n",
    "      --tasks arc_challenge \\\n",
    "      --device cuda:0 \\\n",
    "      --batch_size auto"
   ]
  },
  {
   "cell_type": "code",
   "execution_count": null,
   "metadata": {
    "id": "xGpqMARYvBGm"
   },
   "outputs": [],
   "source": []
  }
 ],
 "metadata": {
  "accelerator": "GPU",
  "colab": {
   "gpuType": "T4",
   "provenance": []
  },
  "kernelspec": {
   "display_name": "Python 3 (ipykernel)",
   "language": "python",
   "name": "python3"
  },
  "language_info": {
   "codemirror_mode": {
    "name": "ipython",
    "version": 3
   },
   "file_extension": ".py",
   "mimetype": "text/x-python",
   "name": "python",
   "nbconvert_exporter": "python",
   "pygments_lexer": "ipython3",
   "version": "3.12.7"
  }
 },
 "nbformat": 4,
 "nbformat_minor": 4
}
