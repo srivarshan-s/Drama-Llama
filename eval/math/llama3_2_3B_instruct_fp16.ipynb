{
 "cells": [
  {
   "cell_type": "code",
   "execution_count": null,
   "metadata": {
    "colab": {
     "base_uri": "https://localhost:8080/"
    },
    "id": "LBOxV5Icugsg",
    "outputId": "f7fcb886-9d56-4c7f-afa3-4f8cacf76e66"
   },
   "outputs": [],
   "source": [
    "!git clone --depth 1 https://github.com/EleutherAI/lm-evaluation-harness"
   ]
  },
  {
   "cell_type": "code",
   "execution_count": 3,
   "metadata": {
    "id": "g2m-z94Lu1GL"
   },
   "outputs": [],
   "source": [
    "!cd lm-evaluation-harness/"
   ]
  },
  {
   "cell_type": "code",
   "execution_count": null,
   "metadata": {
    "colab": {
     "base_uri": "https://localhost:8080/"
    },
    "id": "HsW1f64zu5tS",
    "outputId": "33b2089d-2b29-478a-e27b-a6a2343298c6"
   },
   "outputs": [],
   "source": [
    "!pip install -e lm-evaluation-harness/"
   ]
  },
  {
   "cell_type": "code",
   "execution_count": 1,
   "metadata": {
    "colab": {
     "base_uri": "https://localhost:8080/"
    },
    "id": "ONwRbv9su7Hf",
    "outputId": "fbde9617-000f-41b4-8db9-21faf1e90af5"
   },
   "outputs": [
    {
     "name": "stdout",
     "output_type": "stream",
     "text": [
      "2024-11-19:11:33:37,268 INFO     [__main__.py:279] Verbosity set to INFO\n",
      "2024-11-19:11:33:49,000 INFO     [__main__.py:376] Selected Tasks: ['hendrycks_math']\n",
      "2024-11-19:11:33:49,002 INFO     [evaluator.py:164] Setting random seed to 0 | Setting numpy seed to 1234 | Setting torch manual seed to 1234 | Setting fewshot manual seed to 1234\n",
      "2024-11-19:11:33:49,002 INFO     [evaluator.py:201] Initializing hf model, with arguments: {'pretrained': 'unsloth/Llama-3.2-3B-Instruct'}\n",
      "2024-11-19:11:33:49,088 INFO     [huggingface.py:130] Using device 'cuda:0'\n",
      "2024-11-19:11:33:49,220 INFO     [huggingface.py:483] Using model type 'default'\n",
      "2024-11-19:11:33:50,037 INFO     [huggingface.py:367] Model parallel was set to False, max memory was not set, and device map was set to {'': 'cuda:0'}\n",
      "2024-11-19:11:34:06,261 WARNING  [model.py:422] model.chat_template was called with the chat_template set to False or None. Therefore no chat template will be applied. Make sure this is an intended behavior.\n",
      "2024-11-19:11:34:06,266 INFO     [task.py:415] Building contexts for hendrycks_math_algebra on rank 0...\n",
      "100%|█████████████████████████████████████| 1187/1187 [00:00<00:00, 1454.10it/s]\n",
      "2024-11-19:11:34:07,164 INFO     [task.py:415] Building contexts for hendrycks_math_counting_and_prob on rank 0...\n",
      "100%|███████████████████████████████████████| 474/474 [00:00<00:00, 1467.62it/s]\n",
      "2024-11-19:11:34:07,526 INFO     [task.py:415] Building contexts for hendrycks_math_geometry on rank 0...\n",
      "100%|███████████████████████████████████████| 479/479 [00:00<00:00, 1394.04it/s]\n",
      "2024-11-19:11:34:07,919 INFO     [task.py:415] Building contexts for hendrycks_math_intermediate_algebra on rank 0...\n",
      "100%|███████████████████████████████████████| 903/903 [00:00<00:00, 1378.93it/s]\n",
      "2024-11-19:11:34:08,656 INFO     [task.py:415] Building contexts for hendrycks_math_num_theory on rank 0...\n",
      "100%|███████████████████████████████████████| 540/540 [00:00<00:00, 1238.61it/s]\n",
      "2024-11-19:11:34:09,141 INFO     [task.py:415] Building contexts for hendrycks_math_prealgebra on rank 0...\n",
      "100%|███████████████████████████████████████| 871/871 [00:00<00:00, 1414.59it/s]\n",
      "2024-11-19:11:34:09,826 INFO     [task.py:415] Building contexts for hendrycks_math_precalc on rank 0...\n",
      "100%|███████████████████████████████████████| 546/546 [00:00<00:00, 1431.07it/s]\n",
      "2024-11-19:11:34:10,255 INFO     [evaluator.py:489] Running generate_until requests\n",
      "Running generate_until requests:   0%|                 | 0/5000 [00:00<?, ?it/s]/home/rohit/.venv/lib/python3.12/site-packages/transformers/generation/configuration_utils.py:590: UserWarning: `do_sample` is set to `False`. However, `temperature` is set to `0.6` -- this flag is only used in sample-based generation modes. You should set `do_sample=True` or unset `temperature`.\n",
      "  warnings.warn(\n",
      "/home/rohit/.venv/lib/python3.12/site-packages/transformers/generation/configuration_utils.py:595: UserWarning: `do_sample` is set to `False`. However, `top_p` is set to `0.9` -- this flag is only used in sample-based generation modes. You should set `do_sample=True` or unset `top_p`.\n",
      "  warnings.warn(\n",
      "Running generate_until requests:   1%|        | 61/5000 [00:55<52:37,  1.56it/s]/home/rohit/.venv/lib/python3.12/site-packages/transformers/generation/configuration_utils.py:590: UserWarning: `do_sample` is set to `False`. However, `temperature` is set to `0.6` -- this flag is only used in sample-based generation modes. You should set `do_sample=True` or unset `temperature`.\n",
      "  warnings.warn(\n",
      "/home/rohit/.venv/lib/python3.12/site-packages/transformers/generation/configuration_utils.py:595: UserWarning: `do_sample` is set to `False`. However, `top_p` is set to `0.9` -- this flag is only used in sample-based generation modes. You should set `do_sample=True` or unset `top_p`.\n",
      "  warnings.warn(\n",
      "Running generate_until requests: 100%|██████| 5000/5000 [17:02<00:00,  4.89it/s]\n",
      "2024-11-19:11:51:13,829 INFO     [evaluation_tracker.py:269] Output path not provided, skipping saving results aggregated\n",
      "hf (pretrained=unsloth/Llama-3.2-3B-Instruct), gen_kwargs: (None), limit: None, num_fewshot: None, batch_size: 64\n",
      "|                Tasks                 |Version|Filter|n-shot|  Metric   |   |Value |   |Stderr|\n",
      "|--------------------------------------|------:|------|-----:|-----------|---|-----:|---|-----:|\n",
      "|hendrycks_math                        |      1|none  |      |exact_match|↑  |0.0010|±  |0.0004|\n",
      "| - hendrycks_math_algebra             |      1|none  |     0|exact_match|↑  |0.0025|±  |0.0015|\n",
      "| - hendrycks_math_counting_and_prob   |      1|none  |     0|exact_match|↑  |0.0000|±  |0.0000|\n",
      "| - hendrycks_math_geometry            |      1|none  |     0|exact_match|↑  |0.0000|±  |0.0000|\n",
      "| - hendrycks_math_intermediate_algebra|      1|none  |     0|exact_match|↑  |0.0000|±  |0.0000|\n",
      "| - hendrycks_math_num_theory          |      1|none  |     0|exact_match|↑  |0.0000|±  |0.0000|\n",
      "| - hendrycks_math_prealgebra          |      1|none  |     0|exact_match|↑  |0.0023|±  |0.0016|\n",
      "| - hendrycks_math_precalc             |      1|none  |     0|exact_match|↑  |0.0000|±  |0.0000|\n",
      "\n",
      "|    Groups    |Version|Filter|n-shot|  Metric   |   |Value|   |Stderr|\n",
      "|--------------|------:|------|------|-----------|---|----:|---|-----:|\n",
      "|hendrycks_math|      1|none  |      |exact_match|↑  |0.001|±  |0.0004|\n",
      "\n"
     ]
    }
   ],
   "source": [
    "!lm-eval \\\n",
    "      --model hf \\\n",
    "      --model_args pretrained=unsloth/Llama-3.2-3B-Instruct \\\n",
    "      --tasks hendrycks_math \\\n",
    "      --device cuda:0 \\\n",
    "      --batch_size 64"
   ]
  },
  {
   "cell_type": "code",
   "execution_count": null,
   "metadata": {
    "id": "xGpqMARYvBGm"
   },
   "outputs": [],
   "source": []
  }
 ],
 "metadata": {
  "accelerator": "GPU",
  "colab": {
   "gpuType": "T4",
   "provenance": []
  },
  "kernelspec": {
   "display_name": ".venv",
   "language": "python",
   "name": "python3"
  },
  "language_info": {
   "codemirror_mode": {
    "name": "ipython",
    "version": 3
   },
   "file_extension": ".py",
   "mimetype": "text/x-python",
   "name": "python",
   "nbconvert_exporter": "python",
   "pygments_lexer": "ipython3",
   "version": "3.12.3"
  }
 },
 "nbformat": 4,
 "nbformat_minor": 4
}
