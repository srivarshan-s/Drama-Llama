{
 "cells": [
  {
   "cell_type": "code",
   "execution_count": null,
   "metadata": {
    "colab": {
     "base_uri": "https://localhost:8080/"
    },
    "id": "LBOxV5Icugsg",
    "outputId": "f7fcb886-9d56-4c7f-afa3-4f8cacf76e66"
   },
   "outputs": [],
   "source": [
    "!git clone --depth 1 https://github.com/EleutherAI/lm-evaluation-harness"
   ]
  },
  {
   "cell_type": "code",
   "execution_count": 3,
   "metadata": {
    "id": "g2m-z94Lu1GL"
   },
   "outputs": [],
   "source": [
    "!cd lm-evaluation-harness/"
   ]
  },
  {
   "cell_type": "code",
   "execution_count": null,
   "metadata": {
    "colab": {
     "base_uri": "https://localhost:8080/"
    },
    "id": "HsW1f64zu5tS",
    "outputId": "33b2089d-2b29-478a-e27b-a6a2343298c6"
   },
   "outputs": [],
   "source": [
    "!pip install -e lm-evaluation-harness/"
   ]
  },
  {
   "cell_type": "code",
   "execution_count": 1,
   "metadata": {
    "colab": {
     "base_uri": "https://localhost:8080/"
    },
    "id": "ONwRbv9su7Hf",
    "outputId": "fbde9617-000f-41b4-8db9-21faf1e90af5"
   },
   "outputs": [
    {
     "name": "stdout",
     "output_type": "stream",
     "text": [
      "2024-11-19:12:46:56,008 INFO     [__main__.py:279] Verbosity set to INFO\n",
      "2024-11-19:12:47:07,901 INFO     [__main__.py:376] Selected Tasks: ['hendrycks_math']\n",
      "2024-11-19:12:47:07,903 INFO     [evaluator.py:164] Setting random seed to 0 | Setting numpy seed to 1234 | Setting torch manual seed to 1234 | Setting fewshot manual seed to 1234\n",
      "2024-11-19:12:47:07,903 INFO     [evaluator.py:201] Initializing hf model, with arguments: {'pretrained': 'unsloth/Llama-3.2-1B'}\n",
      "2024-11-19:12:47:07,991 INFO     [huggingface.py:130] Using device 'cuda:0'\n",
      "config.json: 100%|█████████████████████████████| 884/884 [00:00<00:00, 1.91MB/s]\n",
      "2024-11-19:12:47:08,218 INFO     [huggingface.py:483] Using model type 'default'\n",
      "tokenizer_config.json: 100%|███████████████| 50.6k/50.6k [00:00<00:00, 10.5MB/s]\n",
      "tokenizer.json: 100%|██████████████████████| 9.09M/9.09M [00:00<00:00, 19.7MB/s]\n",
      "special_tokens_map.json: 100%|█████████████████| 459/459 [00:00<00:00, 3.28MB/s]\n",
      "2024-11-19:12:47:10,226 INFO     [huggingface.py:367] Model parallel was set to False, max memory was not set, and device map was set to {'': 'cuda:0'}\n",
      "model.safetensors: 100%|███████████████████| 2.47G/2.47G [01:12<00:00, 33.9MB/s]\n",
      "generation_config.json: 100%|███████████████████| 121/121 [00:00<00:00, 320kB/s]\n",
      "2024-11-19:12:48:30,621 WARNING  [model.py:422] model.chat_template was called with the chat_template set to False or None. Therefore no chat template will be applied. Make sure this is an intended behavior.\n",
      "2024-11-19:12:48:30,625 INFO     [task.py:415] Building contexts for hendrycks_math_algebra on rank 0...\n",
      "100%|█████████████████████████████████████| 1187/1187 [00:00<00:00, 1433.14it/s]\n",
      "2024-11-19:12:48:31,550 INFO     [task.py:415] Building contexts for hendrycks_math_counting_and_prob on rank 0...\n",
      "100%|███████████████████████████████████████| 474/474 [00:00<00:00, 1446.41it/s]\n",
      "2024-11-19:12:48:31,916 INFO     [task.py:415] Building contexts for hendrycks_math_geometry on rank 0...\n",
      "100%|███████████████████████████████████████| 479/479 [00:00<00:00, 1300.43it/s]\n",
      "2024-11-19:12:48:32,325 INFO     [task.py:415] Building contexts for hendrycks_math_intermediate_algebra on rank 0...\n",
      "100%|███████████████████████████████████████| 903/903 [00:00<00:00, 1350.52it/s]\n",
      "2024-11-19:12:48:33,082 INFO     [task.py:415] Building contexts for hendrycks_math_num_theory on rank 0...\n",
      "100%|███████████████████████████████████████| 540/540 [00:00<00:00, 1357.55it/s]\n",
      "2024-11-19:12:48:33,535 INFO     [task.py:415] Building contexts for hendrycks_math_prealgebra on rank 0...\n",
      "100%|███████████████████████████████████████| 871/871 [00:00<00:00, 1345.90it/s]\n",
      "2024-11-19:12:48:34,281 INFO     [task.py:415] Building contexts for hendrycks_math_precalc on rank 0...\n",
      "100%|███████████████████████████████████████| 546/546 [00:00<00:00, 1335.48it/s]\n",
      "2024-11-19:12:48:34,745 INFO     [evaluator.py:489] Running generate_until requests\n",
      "Running generate_until requests: 100%|██████| 5000/5000 [13:21<00:00,  6.24it/s]\n",
      "2024-11-19:13:01:57,343 INFO     [evaluation_tracker.py:269] Output path not provided, skipping saving results aggregated\n",
      "hf (pretrained=unsloth/Llama-3.2-1B), gen_kwargs: (None), limit: None, num_fewshot: None, batch_size: 64\n",
      "|                Tasks                 |Version|Filter|n-shot|  Metric   |   |Value |   |Stderr|\n",
      "|--------------------------------------|------:|------|-----:|-----------|---|-----:|---|-----:|\n",
      "|hendrycks_math                        |      1|none  |      |exact_match|↑  |0.0088|±  |0.0013|\n",
      "| - hendrycks_math_algebra             |      1|none  |     0|exact_match|↑  |0.0110|±  |0.0030|\n",
      "| - hendrycks_math_counting_and_prob   |      1|none  |     0|exact_match|↑  |0.0063|±  |0.0036|\n",
      "| - hendrycks_math_geometry            |      1|none  |     0|exact_match|↑  |0.0021|±  |0.0021|\n",
      "| - hendrycks_math_intermediate_algebra|      1|none  |     0|exact_match|↑  |0.0044|±  |0.0022|\n",
      "| - hendrycks_math_num_theory          |      1|none  |     0|exact_match|↑  |0.0148|±  |0.0052|\n",
      "| - hendrycks_math_prealgebra          |      1|none  |     0|exact_match|↑  |0.0149|±  |0.0041|\n",
      "| - hendrycks_math_precalc             |      1|none  |     0|exact_match|↑  |0.0037|±  |0.0026|\n",
      "\n",
      "|    Groups    |Version|Filter|n-shot|  Metric   |   |Value |   |Stderr|\n",
      "|--------------|------:|------|------|-----------|---|-----:|---|-----:|\n",
      "|hendrycks_math|      1|none  |      |exact_match|↑  |0.0088|±  |0.0013|\n",
      "\n"
     ]
    }
   ],
   "source": [
    "!lm-eval \\\n",
    "      --model hf \\\n",
    "      --model_args pretrained=unsloth/Llama-3.2-1B \\\n",
    "      --tasks hendrycks_math \\\n",
    "      --device cuda:0 \\\n",
    "      --batch_size 64"
   ]
  },
  {
   "cell_type": "code",
   "execution_count": null,
   "metadata": {
    "id": "xGpqMARYvBGm"
   },
   "outputs": [],
   "source": []
  }
 ],
 "metadata": {
  "accelerator": "GPU",
  "colab": {
   "gpuType": "T4",
   "provenance": []
  },
  "kernelspec": {
   "display_name": ".venv",
   "language": "python",
   "name": "python3"
  },
  "language_info": {
   "codemirror_mode": {
    "name": "ipython",
    "version": 3
   },
   "file_extension": ".py",
   "mimetype": "text/x-python",
   "name": "python",
   "nbconvert_exporter": "python",
   "pygments_lexer": "ipython3",
   "version": "3.12.3"
  }
 },
 "nbformat": 4,
 "nbformat_minor": 4
}
