{
 "cells": [
  {
   "cell_type": "code",
   "execution_count": null,
   "metadata": {
    "colab": {
     "base_uri": "https://localhost:8080/"
    },
    "id": "LBOxV5Icugsg",
    "outputId": "f7fcb886-9d56-4c7f-afa3-4f8cacf76e66"
   },
   "outputs": [],
   "source": [
    "!git clone --depth 1 https://github.com/EleutherAI/lm-evaluation-harness"
   ]
  },
  {
   "cell_type": "code",
   "execution_count": 3,
   "metadata": {
    "id": "g2m-z94Lu1GL"
   },
   "outputs": [],
   "source": [
    "!cd lm-evaluation-harness/"
   ]
  },
  {
   "cell_type": "code",
   "execution_count": null,
   "metadata": {
    "colab": {
     "base_uri": "https://localhost:8080/"
    },
    "id": "HsW1f64zu5tS",
    "outputId": "33b2089d-2b29-478a-e27b-a6a2343298c6"
   },
   "outputs": [],
   "source": [
    "!pip install -e lm-evaluation-harness/"
   ]
  },
  {
   "cell_type": "code",
   "execution_count": 2,
   "metadata": {
    "colab": {
     "base_uri": "https://localhost:8080/"
    },
    "id": "ONwRbv9su7Hf",
    "outputId": "fbde9617-000f-41b4-8db9-21faf1e90af5"
   },
   "outputs": [
    {
     "name": "stdout",
     "output_type": "stream",
     "text": [
      "2024-11-19:11:59:55,054 INFO     [__main__.py:279] Verbosity set to INFO\n",
      "2024-11-19:12:00:07,423 INFO     [__main__.py:376] Selected Tasks: ['hendrycks_math']\n",
      "2024-11-19:12:00:07,425 INFO     [evaluator.py:164] Setting random seed to 0 | Setting numpy seed to 1234 | Setting torch manual seed to 1234 | Setting fewshot manual seed to 1234\n",
      "2024-11-19:12:00:07,425 INFO     [evaluator.py:201] Initializing hf model, with arguments: {'pretrained': 'unsloth/Llama-3.2-3B'}\n",
      "2024-11-19:12:00:07,516 INFO     [huggingface.py:130] Using device 'cuda:0'\n",
      "2024-11-19:12:00:07,656 INFO     [huggingface.py:483] Using model type 'default'\n",
      "2024-11-19:12:00:08,461 INFO     [huggingface.py:367] Model parallel was set to False, max memory was not set, and device map was set to {'': 'cuda:0'}\n",
      "2024-11-19:12:00:18,093 WARNING  [model.py:422] model.chat_template was called with the chat_template set to False or None. Therefore no chat template will be applied. Make sure this is an intended behavior.\n",
      "2024-11-19:12:00:18,097 INFO     [task.py:415] Building contexts for hendrycks_math_algebra on rank 0...\n",
      "100%|█████████████████████████████████████| 1187/1187 [00:00<00:00, 1605.34it/s]\n",
      "2024-11-19:12:00:18,917 INFO     [task.py:415] Building contexts for hendrycks_math_counting_and_prob on rank 0...\n",
      "100%|███████████████████████████████████████| 474/474 [00:00<00:00, 1449.32it/s]\n",
      "2024-11-19:12:00:19,288 INFO     [task.py:415] Building contexts for hendrycks_math_geometry on rank 0...\n",
      "100%|███████████████████████████████████████| 479/479 [00:00<00:00, 1369.09it/s]\n",
      "2024-11-19:12:00:19,683 INFO     [task.py:415] Building contexts for hendrycks_math_intermediate_algebra on rank 0...\n",
      "100%|███████████████████████████████████████| 903/903 [00:00<00:00, 1415.99it/s]\n",
      "2024-11-19:12:00:20,392 INFO     [task.py:415] Building contexts for hendrycks_math_num_theory on rank 0...\n",
      "100%|███████████████████████████████████████| 540/540 [00:00<00:00, 1211.36it/s]\n",
      "2024-11-19:12:00:20,900 INFO     [task.py:415] Building contexts for hendrycks_math_prealgebra on rank 0...\n",
      "100%|███████████████████████████████████████| 871/871 [00:00<00:00, 1535.47it/s]\n",
      "2024-11-19:12:00:21,531 INFO     [task.py:415] Building contexts for hendrycks_math_precalc on rank 0...\n",
      "100%|███████████████████████████████████████| 546/546 [00:00<00:00, 1435.81it/s]\n",
      "2024-11-19:12:00:21,967 INFO     [evaluator.py:489] Running generate_until requests\n",
      "Running generate_until requests: 100%|██████| 5000/5000 [18:07<00:00,  4.60it/s]\n",
      "2024-11-19:12:18:30,406 INFO     [evaluation_tracker.py:269] Output path not provided, skipping saving results aggregated\n",
      "hf (pretrained=unsloth/Llama-3.2-3B), gen_kwargs: (None), limit: None, num_fewshot: None, batch_size: 64\n",
      "|                Tasks                 |Version|Filter|n-shot|  Metric   |   |Value |   |Stderr|\n",
      "|--------------------------------------|------:|------|-----:|-----------|---|-----:|---|-----:|\n",
      "|hendrycks_math                        |      1|none  |      |exact_match|↑  |0.0020|±  |0.0006|\n",
      "| - hendrycks_math_algebra             |      1|none  |     0|exact_match|↑  |0.0000|±  |0.0000|\n",
      "| - hendrycks_math_counting_and_prob   |      1|none  |     0|exact_match|↑  |0.0000|±  |0.0000|\n",
      "| - hendrycks_math_geometry            |      1|none  |     0|exact_match|↑  |0.0021|±  |0.0021|\n",
      "| - hendrycks_math_intermediate_algebra|      1|none  |     0|exact_match|↑  |0.0022|±  |0.0016|\n",
      "| - hendrycks_math_num_theory          |      1|none  |     0|exact_match|↑  |0.0019|±  |0.0019|\n",
      "| - hendrycks_math_prealgebra          |      1|none  |     0|exact_match|↑  |0.0057|±  |0.0026|\n",
      "| - hendrycks_math_precalc             |      1|none  |     0|exact_match|↑  |0.0018|±  |0.0018|\n",
      "\n",
      "|    Groups    |Version|Filter|n-shot|  Metric   |   |Value|   |Stderr|\n",
      "|--------------|------:|------|------|-----------|---|----:|---|-----:|\n",
      "|hendrycks_math|      1|none  |      |exact_match|↑  |0.002|±  |0.0006|\n",
      "\n"
     ]
    }
   ],
   "source": [
    "!lm-eval \\\n",
    "      --model hf \\\n",
    "      --model_args pretrained=unsloth/Llama-3.2-3B \\\n",
    "      --tasks hendrycks_math \\\n",
    "      --device cuda:0 \\\n",
    "      --batch_size 64"
   ]
  },
  {
   "cell_type": "code",
   "execution_count": null,
   "metadata": {
    "id": "xGpqMARYvBGm"
   },
   "outputs": [],
   "source": []
  }
 ],
 "metadata": {
  "accelerator": "GPU",
  "colab": {
   "gpuType": "T4",
   "provenance": []
  },
  "kernelspec": {
   "display_name": ".venv",
   "language": "python",
   "name": "python3"
  },
  "language_info": {
   "codemirror_mode": {
    "name": "ipython",
    "version": 3
   },
   "file_extension": ".py",
   "mimetype": "text/x-python",
   "name": "python",
   "nbconvert_exporter": "python",
   "pygments_lexer": "ipython3",
   "version": "3.12.3"
  }
 },
 "nbformat": 4,
 "nbformat_minor": 4
}
