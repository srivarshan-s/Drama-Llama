{
 "cells": [
  {
   "cell_type": "code",
   "execution_count": 1,
   "id": "d07d7cfd-490c-46f1-84c4-61ac25fa608c",
   "metadata": {},
   "outputs": [],
   "source": [
    "import pandas as pd\n",
    "\n",
    "df = pd.read_parquet(\"hf://datasets/SkunkworksAI/reasoning-0.01/data/train-00000-of-00001.parquet\")"
   ]
  },
  {
   "cell_type": "code",
   "execution_count": 2,
   "id": "e608681a-3882-4912-a5c0-0ded8d7ffc07",
   "metadata": {},
   "outputs": [
    {
     "data": {
      "text/html": [
       "<div>\n",
       "<style scoped>\n",
       "    .dataframe tbody tr th:only-of-type {\n",
       "        vertical-align: middle;\n",
       "    }\n",
       "\n",
       "    .dataframe tbody tr th {\n",
       "        vertical-align: top;\n",
       "    }\n",
       "\n",
       "    .dataframe thead th {\n",
       "        text-align: right;\n",
       "    }\n",
       "</style>\n",
       "<table border=\"1\" class=\"dataframe\">\n",
       "  <thead>\n",
       "    <tr style=\"text-align: right;\">\n",
       "      <th></th>\n",
       "      <th>instruction</th>\n",
       "      <th>reasoning</th>\n",
       "      <th>output</th>\n",
       "      <th>reasoning_chains</th>\n",
       "    </tr>\n",
       "  </thead>\n",
       "  <tbody>\n",
       "    <tr>\n",
       "      <th>0</th>\n",
       "      <td>If a die is rolled three times, what is the pr...</td>\n",
       "      <td>1. Understand the problem: We need to find the...</td>\n",
       "      <td>To solve this problem, we need to find the num...</td>\n",
       "      <td>[{'step': 1, 'thought': 'Understand the proble...</td>\n",
       "    </tr>\n",
       "    <tr>\n",
       "      <th>1</th>\n",
       "      <td>The interactions will be about the science beh...</td>\n",
       "      <td>1. Start with the given setting: a cooking cla...</td>\n",
       "      <td>Mike: \"Hey Jane, have you ever wondered why we...</td>\n",
       "      <td>[{'step': 1, 'thought': 'Start with the given ...</td>\n",
       "    </tr>\n",
       "    <tr>\n",
       "      <th>2</th>\n",
       "      <td>Create a C++ program that connects to a Cassan...</td>\n",
       "      <td>1. Understand the instruction: Create a C++ pr...</td>\n",
       "      <td>```cpp\\n#include &lt;iostream&gt;\\n#include &lt;cassand...</td>\n",
       "      <td>[{'step': 1, 'thought': 'Understand the instru...</td>\n",
       "    </tr>\n",
       "    <tr>\n",
       "      <th>3</th>\n",
       "      <td>BEGININPUT\\nBEGINCONTEXT\\ndate: August 15, 202...</td>\n",
       "      <td>1. Read the instruction and identify the requi...</td>\n",
       "      <td>Three new features of Microsoft SharePoint Ser...</td>\n",
       "      <td>[{'step': 1, 'thought': 'Read the instruction ...</td>\n",
       "    </tr>\n",
       "    <tr>\n",
       "      <th>4</th>\n",
       "      <td>Rewrite the below text (which is a fragment of...</td>\n",
       "      <td>1. Read and understand the original text.\\n2. ...</td>\n",
       "      <td>Networks and security play a crucial role in c...</td>\n",
       "      <td>[{'step': 1, 'thought': 'Read and understand t...</td>\n",
       "    </tr>\n",
       "  </tbody>\n",
       "</table>\n",
       "</div>"
      ],
      "text/plain": [
       "                                         instruction  \\\n",
       "0  If a die is rolled three times, what is the pr...   \n",
       "1  The interactions will be about the science beh...   \n",
       "2  Create a C++ program that connects to a Cassan...   \n",
       "3  BEGININPUT\\nBEGINCONTEXT\\ndate: August 15, 202...   \n",
       "4  Rewrite the below text (which is a fragment of...   \n",
       "\n",
       "                                           reasoning  \\\n",
       "0  1. Understand the problem: We need to find the...   \n",
       "1  1. Start with the given setting: a cooking cla...   \n",
       "2  1. Understand the instruction: Create a C++ pr...   \n",
       "3  1. Read the instruction and identify the requi...   \n",
       "4  1. Read and understand the original text.\\n2. ...   \n",
       "\n",
       "                                              output  \\\n",
       "0  To solve this problem, we need to find the num...   \n",
       "1  Mike: \"Hey Jane, have you ever wondered why we...   \n",
       "2  ```cpp\\n#include <iostream>\\n#include <cassand...   \n",
       "3  Three new features of Microsoft SharePoint Ser...   \n",
       "4  Networks and security play a crucial role in c...   \n",
       "\n",
       "                                    reasoning_chains  \n",
       "0  [{'step': 1, 'thought': 'Understand the proble...  \n",
       "1  [{'step': 1, 'thought': 'Start with the given ...  \n",
       "2  [{'step': 1, 'thought': 'Understand the instru...  \n",
       "3  [{'step': 1, 'thought': 'Read the instruction ...  \n",
       "4  [{'step': 1, 'thought': 'Read and understand t...  "
      ]
     },
     "execution_count": 2,
     "metadata": {},
     "output_type": "execute_result"
    }
   ],
   "source": [
    "df.head()"
   ]
  },
  {
   "cell_type": "code",
   "execution_count": 3,
   "id": "eb4737a4-770c-4a89-be10-8478699bed91",
   "metadata": {},
   "outputs": [],
   "source": [
    "def preprocess(x):\n",
    "    x = x.strip()\n",
    "    if x[-4:].lower() == \"none\":\n",
    "        x = x[:-4]\n",
    "    return x.strip()"
   ]
  },
  {
   "cell_type": "code",
   "execution_count": 4,
   "id": "872ebfdb-81ea-4704-9c1e-50b7ca695c58",
   "metadata": {},
   "outputs": [],
   "source": [
    "df['instruction'] = df['instruction'].apply(lambda x: preprocess(x))"
   ]
  },
  {
   "cell_type": "code",
   "execution_count": 5,
   "id": "1484536a-542e-4691-b742-d54d8c9057bb",
   "metadata": {},
   "outputs": [],
   "source": [
    "df['reasoning'] = df['reasoning'].apply(lambda x: preprocess(x))"
   ]
  },
  {
   "cell_type": "code",
   "execution_count": 6,
   "id": "dba331f4-4e06-498f-8daf-0ff806e48d97",
   "metadata": {},
   "outputs": [],
   "source": [
    "df['output'] = df['output'].apply(lambda x: preprocess(x))"
   ]
  },
  {
   "cell_type": "code",
   "execution_count": 8,
   "id": "730bb3fc-345c-495a-a09a-a85f854393c3",
   "metadata": {},
   "outputs": [],
   "source": [
    "df.to_parquet('../data/original/reasoning-0.01.parquet', index=False)"
   ]
  }
 ],
 "metadata": {
  "kernelspec": {
   "display_name": "Python 3",
   "language": "python",
   "name": "python3"
  },
  "language_info": {
   "codemirror_mode": {
    "name": "ipython",
    "version": 3
   },
   "file_extension": ".py",
   "mimetype": "text/x-python",
   "name": "python",
   "nbconvert_exporter": "python",
   "pygments_lexer": "ipython3",
   "version": "3.12.7"
  }
 },
 "nbformat": 4,
 "nbformat_minor": 5
}
