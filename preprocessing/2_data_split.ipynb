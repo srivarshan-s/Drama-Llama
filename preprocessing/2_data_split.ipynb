{
 "cells": [
  {
   "cell_type": "code",
   "execution_count": 1,
   "id": "d79febd6-c1f2-4ecd-99d2-4e543ac2f328",
   "metadata": {},
   "outputs": [],
   "source": [
    "import pandas as pd\n",
    "from sklearn.model_selection import train_test_split"
   ]
  },
  {
   "cell_type": "code",
   "execution_count": 3,
   "id": "e11b344f-f5f0-4b2d-93fe-45e978194748",
   "metadata": {},
   "outputs": [],
   "source": [
    "df = pd.read_parquet('../data/original/reasoning-0.01.parquet')"
   ]
  },
  {
   "cell_type": "code",
   "execution_count": 4,
   "id": "1d08632c-5e13-4419-a618-ac724c7133dc",
   "metadata": {},
   "outputs": [
    {
     "data": {
      "text/plain": [
       "29857"
      ]
     },
     "execution_count": 4,
     "metadata": {},
     "output_type": "execute_result"
    }
   ],
   "source": [
    "len(df)"
   ]
  },
  {
   "cell_type": "markdown",
   "id": "0025fb20-6af9-4e51-8636-11f8f3aa3b3c",
   "metadata": {},
   "source": [
    "### We'll be doing 80% train, 10% val and 10% test because val and test are only useful for calculating perplexity."
   ]
  },
  {
   "cell_type": "code",
   "execution_count": 5,
   "id": "82b25617-3b85-41ac-a0d4-df29ac757715",
   "metadata": {},
   "outputs": [],
   "source": [
    "train, val_test = train_test_split(df, test_size=0.20, random_state=42)"
   ]
  },
  {
   "cell_type": "code",
   "execution_count": 6,
   "id": "d9db6024-71ce-45e8-bcf6-36e6acebcd2d",
   "metadata": {},
   "outputs": [],
   "source": [
    "val, test = train_test_split(val_test, test_size=0.50, random_state=42)"
   ]
  },
  {
   "cell_type": "code",
   "execution_count": 7,
   "id": "f6b9cfb5-3039-4264-abb9-70350ff2578d",
   "metadata": {},
   "outputs": [
    {
     "data": {
      "text/plain": [
       "(23885, 2986, 2986)"
      ]
     },
     "execution_count": 7,
     "metadata": {},
     "output_type": "execute_result"
    }
   ],
   "source": [
    "len(train), len(val), len(test)"
   ]
  },
  {
   "cell_type": "code",
   "execution_count": 8,
   "id": "bd1c05df-9358-4874-83f8-2bb806e4dc80",
   "metadata": {},
   "outputs": [],
   "source": [
    "train.to_csv('../data/train.csv', index=False)\n",
    "val.to_csv('../data/val.csv', index=False)\n",
    "test.to_csv('../data/test.csv', index=False)"
   ]
  }
 ],
 "metadata": {
  "kernelspec": {
   "display_name": "Python 3",
   "language": "python",
   "name": "python3"
  },
  "language_info": {
   "codemirror_mode": {
    "name": "ipython",
    "version": 3
   },
   "file_extension": ".py",
   "mimetype": "text/x-python",
   "name": "python",
   "nbconvert_exporter": "python",
   "pygments_lexer": "ipython3",
   "version": "3.12.7"
  }
 },
 "nbformat": 4,
 "nbformat_minor": 5
}
