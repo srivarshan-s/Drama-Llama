{
 "cells": [
  {
   "cell_type": "code",
   "execution_count": 1,
   "metadata": {},
   "outputs": [],
   "source": [
    "import torch\n",
    "import pandas as pd\n",
    "from transformers import pipeline"
   ]
  },
  {
   "cell_type": "code",
   "execution_count": 2,
   "metadata": {},
   "outputs": [],
   "source": [
    "# CONFIG\n",
    "MODEL = \"unsloth/Llama-3.2-3B-Instruct\"\n",
    "\n",
    "DEVICE = \"cpu\"\n",
    "if torch.cuda.is_available():\n",
    "    DEVICE = \"cuda\"\n",
    "if torch.backends.mps.is_available():\n",
    "    DEVICE = \"mps\""
   ]
  },
  {
   "cell_type": "markdown",
   "metadata": {},
   "source": [
    "## Train Data"
   ]
  },
  {
   "cell_type": "code",
   "execution_count": 3,
   "metadata": {},
   "outputs": [],
   "source": [
    "# Import the data\n",
    "splits = {'train': 'ARC-Challenge/train-00000-of-00001.parquet', 'test': 'ARC-Challenge/test-00000-of-00001.parquet', 'validation': 'ARC-Challenge/validation-00000-of-00001.parquet'}\n",
    "df = pd.read_parquet(\"hf://datasets/allenai/ai2_arc/\" + splits[\"train\"])\n",
    "\n",
    "# Extract the questions\n",
    "questions = df[\"question\"].copy()\n",
    "\n",
    "# Extract the choices\n",
    "choices = df[\"choices\"].copy()\n",
    "\n",
    "# Load the model pipeline\n",
    "pipe = pipeline(\"text-generation\", model=MODEL, device=DEVICE)\n",
    "\n",
    "# Parse the choices \n",
    "for idx in range(len(choices)):\n",
    "    choice_string = \"Choices:\\n\"\n",
    "    for a, b in zip(choices[idx]['label'], choices[idx]['text']):\n",
    "        choice_string += f\"Choice {a}: {b}\\n\"\n",
    "    choices[idx] = choice_string\n",
    "\n",
    "# Construct the reasoning prompts\n",
    "prompts = [q + \"\\n\" + c + \"The step by step behind the correct answer is\" for q, c in zip(questions, choices)]\n",
    "\n",
    "# Run the model on the prompts\n",
    "results = pipe(prompts, max_new_tokens=128, truncation=True, batch_size=80)\n",
    "\n",
    "# Extract the reasoning\n",
    "reasoning = [x[0]['generated_text'].split(p)[-1].strip() for x, p in zip(results, prompts)]\n",
    "\n",
    "# Update the questions with reasoning\n",
    "for idx in range(len(questions)):\n",
    "    questions[idx] += \"\\nReasoning: \" + reasoning[idx]\n",
    "\n",
    "# Update the df\n",
    "df['question'] = questions\n",
    "\n",
    "# Save the df\n",
    "df.to_parquet('train-00000-of-00001.parquet')"
   ]
  },
  {
   "cell_type": "markdown",
   "metadata": {},
   "source": [
    "## Test Data"
   ]
  },
  {
   "cell_type": "code",
   "execution_count": 3,
   "metadata": {},
   "outputs": [],
   "source": [
    "# Import the data\n",
    "splits = {'train': 'ARC-Challenge/train-00000-of-00001.parquet', 'test': 'ARC-Challenge/test-00000-of-00001.parquet', 'validation': 'ARC-Challenge/validation-00000-of-00001.parquet'}\n",
    "df = pd.read_parquet(\"hf://datasets/allenai/ai2_arc/\" + splits[\"test\"])\n",
    "\n",
    "# Extract the questions\n",
    "questions = df[\"question\"].copy()\n",
    "\n",
    "# Extract the choices\n",
    "choices = df[\"choices\"].copy()\n",
    "\n",
    "# Load the model pipeline\n",
    "pipe = pipeline(\"text-generation\", model=MODEL, device=DEVICE)\n",
    "\n",
    "# Parse the choices \n",
    "for idx in range(len(choices)):\n",
    "    choice_string = \"Choices:\\n\"\n",
    "    for a, b in zip(choices[idx]['label'], choices[idx]['text']):\n",
    "        choice_string += f\"Choice {a}: {b}\\n\"\n",
    "    choices[idx] = choice_string\n",
    "\n",
    "# Construct the reasoning prompts\n",
    "prompts = [q + \"\\n\" + c + \"The step by step behind the correct answer is\" for q, c in zip(questions, choices)]\n",
    "\n",
    "# Run the model on the prompts\n",
    "results = pipe(prompts, max_new_tokens=128, truncation=True, batch_size=80)\n",
    "\n",
    "# Extract the reasoning\n",
    "reasoning = [x[0]['generated_text'].split(p)[-1].strip() for x, p in zip(results, prompts)]\n",
    "\n",
    "# Update the questions with reasoning\n",
    "for idx in range(len(questions)):\n",
    "    questions[idx] += \"\\nReasoning: \" + reasoning[idx]\n",
    "\n",
    "# Update the df\n",
    "df['question'] = questions\n",
    "\n",
    "# Save the df\n",
    "df.to_parquet('test-00000-of-00001.parquet')"
   ]
  },
  {
   "cell_type": "markdown",
   "metadata": {},
   "source": [
    "## Validation Data"
   ]
  },
  {
   "cell_type": "code",
   "execution_count": null,
   "metadata": {},
   "outputs": [],
   "source": [
    "# Import the data\n",
    "splits = {'train': 'ARC-Challenge/train-00000-of-00001.parquet', 'test': 'ARC-Challenge/test-00000-of-00001.parquet', 'validation': 'ARC-Challenge/validation-00000-of-00001.parquet'}\n",
    "df = pd.read_parquet(\"hf://datasets/allenai/ai2_arc/\" + splits[\"validation\"])\n",
    "\n",
    "# Extract the questions\n",
    "questions = df[\"question\"].copy()\n",
    "\n",
    "# Extract the choices\n",
    "choices = df[\"choices\"].copy()\n",
    "\n",
    "# Load the model pipeline\n",
    "pipe = pipeline(\"text-generation\", model=MODEL, device=DEVICE)\n",
    "\n",
    "# Parse the choices \n",
    "for idx in range(len(choices)):\n",
    "    choice_string = \"Choices:\\n\"\n",
    "    for a, b in zip(choices[idx]['label'], choices[idx]['text']):\n",
    "        choice_string += f\"Choice {a}: {b}\\n\"\n",
    "    choices[idx] = choice_string\n",
    "\n",
    "# Construct the reasoning prompts\n",
    "prompts = [q + \"\\n\" + c + \"The step by step behind the correct answer is\" for q, c in zip(questions, choices)]\n",
    "\n",
    "# Run the model on the prompts\n",
    "results = pipe(prompts, max_new_tokens=128, truncation=True, batch_size=80)\n",
    "\n",
    "# Extract the reasoning\n",
    "reasoning = [x[0]['generated_text'].split(p)[-1].strip() for x, p in zip(results, prompts)]\n",
    "\n",
    "# Update the questions with reasoning\n",
    "for idx in range(len(questions)):\n",
    "    questions[idx] += \"\\nReasoning: \" + reasoning[idx]\n",
    "\n",
    "# Update the df\n",
    "df['question'] = questions\n",
    "\n",
    "# Save the df\n",
    "df.to_parquet('validation-00000-of-00001.parquet')"
   ]
  }
 ],
 "metadata": {
  "kernelspec": {
   "display_name": "venv",
   "language": "python",
   "name": "python3"
  },
  "language_info": {
   "codemirror_mode": {
    "name": "ipython",
    "version": 3
   },
   "file_extension": ".py",
   "mimetype": "text/x-python",
   "name": "python",
   "nbconvert_exporter": "python",
   "pygments_lexer": "ipython3",
   "version": "3.12.7"
  }
 },
 "nbformat": 4,
 "nbformat_minor": 2
}
